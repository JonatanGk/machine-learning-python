{
 "cells": [
  {
   "cell_type": "markdown",
   "metadata": {},
   "source": [
    "# Clasificación de iris con red neuronal simple"
   ]
  },
  {
   "cell_type": "code",
   "execution_count": 6,
   "metadata": {},
   "outputs": [],
   "source": [
    "from sklearn.datasets import load_iris\n",
    "from sklearn.model_selection import train_test_split\n",
    "from sklearn.preprocessing import StandardScaler\n",
    " \n",
    "iris = load_iris()\n",
    "X_train, X_test, y_train, y_test = train_test_split(iris.data, iris.target, test_size=0.2, random_state=42)\n",
    " \n",
    "scaler = StandardScaler()\n",
    "X_train = scaler.fit_transform(X_train)\n",
    "X_test = scaler.transform(X_test)"
   ]
  },
  {
   "cell_type": "code",
   "execution_count": 7,
   "metadata": {},
   "outputs": [],
   "source": [
    "import torch\n",
    "import torch.nn as nn\n",
    "\n",
    "class SimpleNN(nn.Module):\n",
    "    def __init__(self, input_size, hidden_size, output_size):\n",
    "        super().__init__()\n",
    "        self.fc1 = nn.Linear(input_size, hidden_size)  # Input layer\n",
    "        self.relu = nn.ReLU()                          # Activation function\n",
    "        self.fc2 = nn.Linear(hidden_size, output_size) # Output layer\n",
    "         \n",
    "    def forward(self, x):\n",
    "        x = self.fc1(x)\n",
    "        x = self.relu(x)\n",
    "        x = self.fc2(x)\n",
    "        return x    "
   ]
  },
  {
   "cell_type": "code",
   "execution_count": 8,
   "metadata": {},
   "outputs": [
    {
     "name": "stdout",
     "output_type": "stream",
     "text": [
      "Epoch [10/100], Loss: 0.7783\n",
      "Epoch [20/100], Loss: 0.5399\n",
      "Epoch [30/100], Loss: 0.3921\n",
      "Epoch [40/100], Loss: 0.2934\n",
      "Epoch [50/100], Loss: 0.2166\n",
      "Epoch [60/100], Loss: 0.1639\n",
      "Epoch [70/100], Loss: 0.1284\n",
      "Epoch [80/100], Loss: 0.1050\n",
      "Epoch [90/100], Loss: 0.0902\n",
      "Epoch [100/100], Loss: 0.0800\n"
     ]
    }
   ],
   "source": [
    "torch.manual_seed(42) # Fijamos la semilla para asegurar reproducibilidad\n",
    "\n",
    "input_size = iris.data.shape[1] # Capa de entrada: número de características\n",
    "hidden_size = 10 # Tamaño de la capa oculta\n",
    "output_size = len(iris.target_names) # Capa de salida: número de clases\n",
    "\n",
    "model = SimpleNN(input_size, hidden_size, output_size) # Instanciamos el modelo\n",
    "\n",
    "criterion = nn.CrossEntropyLoss() # Función de pérdida\n",
    "import torch.optim as optim\n",
    "optimizer = optim.Adam(model.parameters(), lr=0.01) # Optimizador\n",
    "\n",
    "X_train_tensor = torch.tensor(X_train, dtype=torch.float32)\n",
    "y_train_tensor = torch.tensor(y_train)\n",
    "\n",
    "num_epochs = 100\n",
    "for epoch in range(num_epochs):\n",
    "    outputs = model(X_train_tensor) # Forward pass\n",
    "    loss = criterion(outputs, y_train_tensor) # Calcular la pérdida\n",
    "    \n",
    "    optimizer.zero_grad() # Inicializar los gradientes a cero\n",
    "    loss.backward() # Backward pass\n",
    "    optimizer.step() # Actualizar los parámetros\n",
    "    \n",
    "    if (epoch+1) % 10 == 0: # Cada 10 epochs muestra la pérdida\n",
    "        print(f'Epoch [{epoch+1}/{num_epochs}], Loss: {loss.item():.4f}') "
   ]
  },
  {
   "cell_type": "code",
   "execution_count": 9,
   "metadata": {},
   "outputs": [
    {
     "name": "stdout",
     "output_type": "stream",
     "text": [
      "Accuracy on the test set: 0.97\n"
     ]
    }
   ],
   "source": [
    "with torch.no_grad():\n",
    "\tX_test_tensor = torch.FloatTensor(X_test)\n",
    "\ty_test_tensor = torch.LongTensor(y_test)\n",
    "\toutputs = model(X_test_tensor)\n",
    "\t_, predicted = torch.max(outputs, 1)\n",
    "\taccuracy = (predicted == y_test_tensor).sum().item() / len(y_test_tensor)\n",
    "\tprint(f'Accuracy on the test set: {accuracy:.2f}')"
   ]
  }
 ],
 "metadata": {
  "kernelspec": {
   "display_name": "env5",
   "language": "python",
   "name": "python3"
  },
  "language_info": {
   "codemirror_mode": {
    "name": "ipython",
    "version": 3
   },
   "file_extension": ".py",
   "mimetype": "text/x-python",
   "name": "python",
   "nbconvert_exporter": "python",
   "pygments_lexer": "ipython3",
   "version": "3.12.1"
  }
 },
 "nbformat": 4,
 "nbformat_minor": 2
}
